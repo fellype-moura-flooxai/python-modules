{
 "cells": [
  {
   "cell_type": "markdown",
   "id": "03b8466d-bc8a-414e-9687-f3acbb1dddbe",
   "metadata": {},
   "source": [
    "#Esse é o meu titulo\n",
    "\n",
    "Essa linha cria uma variável 'a'."
   ]
  },
  {
   "cell_type": "code",
   "execution_count": 1,
   "id": "71222330-ca83-403c-a5a0-5353c1400ca5",
   "metadata": {},
   "outputs": [],
   "source": [
    "a = 2"
   ]
  },
  {
   "cell_type": "code",
   "execution_count": 2,
   "id": "3dae52f1-5f01-45b7-8833-4fc7d4c1af37",
   "metadata": {},
   "outputs": [
    {
     "data": {
      "text/plain": [
       "2"
      ]
     },
     "execution_count": 2,
     "metadata": {},
     "output_type": "execute_result"
    }
   ],
   "source": [
    "a"
   ]
  },
  {
   "cell_type": "code",
   "execution_count": null,
   "id": "80a77160-6e34-4ec3-903b-0cfedf3ec0e9",
   "metadata": {},
   "outputs": [],
   "source": []
  }
 ],
 "metadata": {
  "kernelspec": {
   "display_name": "Python 3 (ipykernel)",
   "language": "python",
   "name": "python3"
  },
  "language_info": {
   "codemirror_mode": {
    "name": "ipython",
    "version": 3
   },
   "file_extension": ".py",
   "mimetype": "text/x-python",
   "name": "python",
   "nbconvert_exporter": "python",
   "pygments_lexer": "ipython3",
   "version": "3.13.4"
  }
 },
 "nbformat": 4,
 "nbformat_minor": 5
}
