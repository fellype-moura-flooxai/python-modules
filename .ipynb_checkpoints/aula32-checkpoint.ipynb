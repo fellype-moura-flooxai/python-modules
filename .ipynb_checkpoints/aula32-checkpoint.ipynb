{
 "cells": [
  {
   "cell_type": "markdown",
   "id": "03b8466d-bc8a-414e-9687-f3acbb1dddbe",
   "metadata": {},
   "source": [
    "Essa linha cria uma variável a"
   ]
  }
 ],
 "metadata": {
  "kernelspec": {
   "display_name": "Python 3 (ipykernel)",
   "language": "python",
   "name": "python3"
  },
  "language_info": {
   "codemirror_mode": {
    "name": "ipython",
    "version": 3
   },
   "file_extension": ".py",
   "mimetype": "text/x-python",
   "name": "python",
   "nbconvert_exporter": "python",
   "pygments_lexer": "ipython3",
   "version": "3.13.4"
  }
 },
 "nbformat": 4,
 "nbformat_minor": 5
}
